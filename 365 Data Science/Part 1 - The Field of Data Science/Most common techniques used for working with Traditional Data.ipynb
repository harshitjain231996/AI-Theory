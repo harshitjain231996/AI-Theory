{
 "cells": [
  {
   "cell_type": "markdown",
   "metadata": {},
   "source": [
    "## Most common techniques used for working with Traditional Data\n",
    "\n",
    "Raw data or raw facts is also called primary data. It refers to the data which cannot be analysed straight away. It is untouched data which has been accumulated and stored on the server. The gathering of raw data is referred to as **Data collection.**\n",
    "\n",
    "Data can be collected in several ways. One of them being via surveys. The collection can be automatic as well. A common example is cookies which provide detailed information about a user's activity on a web site. Both of them can give companies a good idea on how to help improve customer satisfaction. \n",
    "\n",
    "Raw data must be processed so that it can be converted into information. Data collection and preprocessing both are crucial for quantitative analysis.\n",
    "\n",
    "**Data Preprocessing** : A group of operations that will basically convert raw data into a format that is more understandable and hence useful for further processing. It attempts to fix the problem that can inevitably occur with data gathering such as invalid or incorrect data. There are various techniques that are applied while preprocessing raw data and they are as follows:\n",
    "\n",
    "1. Class Labeling : This involves labeling the data point to the correct data type or arranging data by category. One such category is numerical. The other label is categorical. A numerical label has mathematical data involved and can be manipulated. On the other hand, in categorical label we cannot do mathematical manipulations on the information.\n",
    "\n",
    "2. Data Cleansing : Also known as data cleaning or data scrubbing. The goal of data cleansing is to deal with inconsistent data. This can come in various forms. For example - A name might be misspelled.\n",
    "\n",
    "3. Dealing with missing values.\n",
    "\n",
    "Approaches that are specific to working with traditional data : \n",
    "\n",
    "a. Balancing : There might be skewness towards a specific group while working with the dataset. We need to avoid it using balancing.\n",
    "\n",
    "b. Shuffling : Shuffling the set of observations in the dataset. This will ensure that the data set is free from unwanted patterns caused by problematic data collection. Data shuffling improves predictive performance and helps avoid misleading results.\n",
    "\n",
    "Diagrams which are commonly encountered while dealing with traditional data:\n",
    "\n",
    "1. Entity - Relationship Diagram : It is a complex theoretical way of illustrating a database architecture. The different shapes convey how the tables in a database are related.\n",
    "\n",
    "2. Relational Schema : Each rectangle represents a distinct data table and the lines show which tables are related and which aren't.\n",
    "\n",
    "### Example of traditional data:\n",
    "\n",
    "As we can see below from the table, the first column i.e. customer_id shows the id assigned to different customers. It cannot be manipulated i.e. even though they are numbers, they hold no numerical values and therefore represent categorical data. \n",
    "\n",
    "When we look at last column, i.e. number_of_complaints is numerical data since they can be manipulated. Adding them together to give a total number of complaints is useful information. Therefore, they are numerical data.\n",
    "\n",
    "![i](https://i.imgur.com/Rbw54ne.jpg)\n",
    "\n",
    "Also, another example when we look at stock prices dataset where we see that the date column is categorical whereas the stock price i.e. the second column is numerical data.\n",
    "\n",
    "![i](https://i.imgur.com/TXl1LUG.jpg)"
   ]
  },
  {
   "cell_type": "code",
   "execution_count": null,
   "metadata": {},
   "outputs": [],
   "source": []
  }
 ],
 "metadata": {
  "kernelspec": {
   "display_name": "Python 3",
   "language": "python",
   "name": "python3"
  },
  "language_info": {
   "codemirror_mode": {
    "name": "ipython",
    "version": 3
   },
   "file_extension": ".py",
   "mimetype": "text/x-python",
   "name": "python",
   "nbconvert_exporter": "python",
   "pygments_lexer": "ipython3",
   "version": "3.7.4"
  }
 },
 "nbformat": 4,
 "nbformat_minor": 2
}
