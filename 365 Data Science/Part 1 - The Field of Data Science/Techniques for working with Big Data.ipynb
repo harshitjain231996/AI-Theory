{
 "cells": [
  {
   "cell_type": "markdown",
   "metadata": {},
   "source": [
    "Collecting and preprocessing is essential to help organize the data before doing analysis or making predicitions as is grouping the data into categories or classes. Examples of big data can be text data, digital (image, audio, video) data and more. With a larger amount of data types there comes a wider range of data cleansing methods. \n",
    "\n",
    "Big data might have missing values and it is indeed a big problem. \n",
    "\n",
    "**Text Data Mining** -> Represents the process of deriving valuable, unstructured data from a text. \n",
    "\n",
    "**Data Masking** -> Helps us analyze the information without compromising on private details which one does not want to share. It conceals the original data with random and false data allowing the user to conduct analysis and keep all confidential information in a secure place. An example of applying data masking to big data is through confidentiality preserving data mining techniques. \n",
    "\n",
    "The visualization of big data is complex since big data involves data collection from several sources. \n",
    "\n",
    "Where can one find big data?\n",
    "\n",
    "In increasingly more industries and companies. Example - Facebook keeps track of it's users names, photos, videos, voice messages and so on. This means that the data indeed has a lot of variety. With so many users worldwide, the volume stored on their servers is tremendous. One more famous example includes financial trading data.\n",
    "\n",
    "![i](https://i.imgur.com/A2DJuSo.jpg)"
   ]
  },
  {
   "cell_type": "code",
   "execution_count": null,
   "metadata": {},
   "outputs": [],
   "source": []
  }
 ],
 "metadata": {
  "kernelspec": {
   "display_name": "Python 3",
   "language": "python",
   "name": "python3"
  },
  "language_info": {
   "codemirror_mode": {
    "name": "ipython",
    "version": 3
   },
   "file_extension": ".py",
   "mimetype": "text/x-python",
   "name": "python",
   "nbconvert_exporter": "python",
   "pygments_lexer": "ipython3",
   "version": "3.7.4"
  }
 },
 "nbformat": 4,
 "nbformat_minor": 2
}
