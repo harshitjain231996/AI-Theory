{
 "cells": [
  {
   "cell_type": "markdown",
   "metadata": {},
   "source": [
    "## Business Intelligence Techniques\n",
    "\n",
    "Business Intelligence : Uses data skills + business knowledge and intuition to explain past performance. A good business intelligence analyst does not look at a problem from only one angle. They will be able to extract any and all information required to solve the problem. A business intelligence analyst will be able to extract and answer simple as well as difficult questions related to the patterns we get from the data. It is a job that requires one to understand the essence of a business and strengthen the business through the power of data.\n",
    "\n",
    "To measure business performance, we start by collecting observations. No mathematical operation can be applied on the observation. We must quantify that information i.e. representing observations as numbers.\n",
    "\n",
    "**Measure** : A measure is the accumulation of observations to show some information. \n",
    "\n",
    "**Metric** : Refers to a value that derives from the measure we obtain and aims at gauging business performances or progress. It is related to simple descriptive statistic of past performance. Metric = Measure + Business Meaning. It refers to a number which bears a business meaning. They are very useful for comparisons. \n",
    "\n",
    "Observations lead to measures and measures lead to metric. Metrics have business applications. From a huge dataset, we can get a lot of metrics. Since it is not wise to keep track of all possible metric which we can extract from a dataset, we need to choose only those metrics which are tightly aligned with our business objectives. These metrics are called KPI's or Key Performance Indicators. Key because they are related to main business goals, performance because it shows how successfully one has performed within a specified time frame and indicators because they are values or metrics that indicate something related to business performance.\n",
    "\n",
    "Example : Metric gives us the traffic of a page from the website that was visited by any type of user whereas a KPI gives us the traffic generated from only those users who have clicked on a link provided in the ad campaign. This helps to check whether the ads which are given are being clicked or not and this will help one decide whether to spend on ads or not.\n",
    "\n",
    "Every quantitive meaning in BI must be visualized. People like managers will require dashboards and reports with graph, diagrams, maps and other easily digestable visuals supported by most relevant numbers. \n",
    "\n",
    "Filtering out the boring metrics and turning the informative KPI's to an easily understood and comparable visualizations is an important job of business intelligence analyst job.\n",
    "\n",
    "BI can be used for price optimization. Example - Hotels use price optimization by raising the price of a room at periods when many people want to visit hotel and by reducing it to attract visitors when demand is low. This can help the hotels to greatly increase their profits.\n",
    "\n",
    "Another application of Business Intelligence is enhancing inventory management. Oversupply and undersupply can cause problems in a business. However implementing effective inventory management means supplying enough stock to meet demand with the minimal amount of waste and cost. To do this well, one can perform an indepth analysis of past sales transactions for the purpose of identifying seasonality patterns and the times of the year with the highest sales. We can even track to identify the months of which it is over or understocked. A detailed analysis can even pinpoint the day or even the time of day indicating the demand of the product at that particular time. This will in turn help to reduce costs and increase profits."
   ]
  },
  {
   "cell_type": "code",
   "execution_count": null,
   "metadata": {},
   "outputs": [],
   "source": []
  }
 ],
 "metadata": {
  "kernelspec": {
   "display_name": "Python 3",
   "language": "python",
   "name": "python3"
  },
  "language_info": {
   "codemirror_mode": {
    "name": "ipython",
    "version": 3
   },
   "file_extension": ".py",
   "mimetype": "text/x-python",
   "name": "python",
   "nbconvert_exporter": "python",
   "pygments_lexer": "ipython3",
   "version": "3.7.4"
  }
 },
 "nbformat": 4,
 "nbformat_minor": 2
}
