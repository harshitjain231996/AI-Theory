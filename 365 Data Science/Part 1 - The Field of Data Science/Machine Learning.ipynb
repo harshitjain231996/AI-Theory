{
 "cells": [
  {
   "cell_type": "markdown",
   "metadata": {},
   "source": [
    "## Intro to Machine Learning\n",
    "\n",
    "Machine Learning - Creating an algorithm, which a computer then uses to find a model that fits the data as best as possible. It makes very accurate predictions based on that. We don't give machine the instructions on how to find the model. We provide the machine with algorithms which give the machine directions on how to learn on it's own. A Machine learning algorithm is like a trial and error process. Each consecutive trial is as good as the previous one.\n",
    "\n",
    "There are 4 ingredients which are as follows:\n",
    "\n",
    "1. Data\n",
    "\n",
    "2. Model\n",
    "\n",
    "3. Objective function\n",
    "\n",
    "4. Optimization algorithm\n",
    "\n",
    "Machine learning is used for improving complex computational models that can find infinite applications in our daily lives especially in business world. "
   ]
  },
  {
   "cell_type": "markdown",
   "metadata": {},
   "source": [
    "## Types of Machine Learning\n",
    "\n",
    "1. Supervised Learning : It is about training an algorithm which resembles a teacher supervising her students. It has labelled data which means we know the output along with the input. The objective function is able to measure the inaccuracy since we know the labelled data. Optimization algorithm is used to improve the way algorithm is designed and improve the accuracy of the model. Supervision can be done only on the training dataset.\n",
    "\n",
    "2. Unsupervised Learning : We might not have the time or the resources to train the dataset against the labelled data. In this case, unsupervised learning will be helpful. Here, unlabelled data will be provided to the algorithm. \n",
    "\n",
    "3. Reinforcement Learning : Based on reward system. Instead of minimizing an error, we are maximizing the reward or optimization function."
   ]
  },
  {
   "cell_type": "markdown",
   "metadata": {},
   "source": [
    "## Techniques involved in Machine Learning\n",
    "\n",
    "#### Supervised Learning \n",
    "\n",
    "1. Support Vector Machine\n",
    "\n",
    "2. Neural Networks\n",
    "\n",
    "3. Deep Learning\n",
    "\n",
    "4. Random Forests\n",
    "\n",
    "5. Bayesian Networks\n",
    "\n",
    "#### Unsupervised Learning\n",
    "\n",
    "1. k-means\n",
    "\n",
    "2. Deep Learning\n",
    "\n",
    "Deep learning is the state-of-the-art Machine Learning. It solves all the three types of machine learning problems i.e. supervised learning, unsupervised learning and reinforcement learning.\n",
    "\n",
    "## Examples of Machine Learning\n",
    "\n",
    "Financial Sectors and Banks - Through supervised learning, one can train models that detect fraudlent activity. They are so well equipped that they are able to detect even the slightest probability of theft. They flag the transactions and prevent the fraud in real time.\n",
    "\n",
    "Another example of supervised machine learning with labelled data can be found in client retention. "
   ]
  },
  {
   "cell_type": "code",
   "execution_count": null,
   "metadata": {},
   "outputs": [],
   "source": []
  }
 ],
 "metadata": {
  "kernelspec": {
   "display_name": "Python 3",
   "language": "python",
   "name": "python3"
  },
  "language_info": {
   "codemirror_mode": {
    "name": "ipython",
    "version": 3
   },
   "file_extension": ".py",
   "mimetype": "text/x-python",
   "name": "python",
   "nbconvert_exporter": "python",
   "pygments_lexer": "ipython3",
   "version": "3.7.4"
  }
 },
 "nbformat": 4,
 "nbformat_minor": 2
}
