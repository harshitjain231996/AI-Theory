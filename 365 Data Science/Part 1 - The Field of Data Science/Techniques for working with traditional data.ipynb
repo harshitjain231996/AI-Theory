{
 "cells": [
  {
   "cell_type": "markdown",
   "metadata": {},
   "source": [
    "## Techniques for working with traditional data\n",
    "\n",
    "After the BI reports and dashboards have been prepared, and the executives have extracted insights about the business, we use that information to predict some future values as accurately as possible. From this stage, we stop dealing with analysis and start dealing with analytics more precisely predictive analytics. We classify predictive analytics into two branches namely traditional methods and machine learning.\n",
    "\n",
    "Techniques involved while applying traditional data science methods:\n",
    "\n",
    "1. **Regression** : A model used for quantifying causal relationship among the different variables included in the analysis. A regression line always goes straight and goes as close it can go through all the observations simultaneously. This was linear regression model. There can be non-linear models as well. A logistic regression is an example of a non-linear model. In case of logistic regression, the vertical line will consist of only 1's and 0's. Such a model is useful for decision making process. Example - Logistic regression can be used to filter out candidates during job screening process. If the algorithm estimates probability that a perspective candidate will perform well in the company is above their threshold, it will predict 1 or successful application and vice-versa. A non-linear nature of logistic regression is perfectly summarized by it's graph. An example of logistic regression below :\n",
    "\n",
    "![i](https://i.imgur.com/z4NseuV.jpg)\n",
    "\n",
    "\n",
    "2. **Cluster Analysis** : When the data is divided into a few groups called clusters, we can apply cluster analysis. This will mean that certain observations exhibit similar behavior when measured across similar metrics. Clustering is about grouping observations together.\n",
    "\n",
    "3. **Factor Analysis** : Helps eliminate redundancy hence reducing the number of factors by combining similar factors together into a single factor. This also helps in reducing the dimensionality of the problem which in turn will deliver a more accurate prediction. It is about grouping explanatory variables together.\n",
    "\n",
    "4. **Time Series** : This technique will be used especially if we are working in economics or finance. We will have to follow the development of certain values over time such as stock prices or sales volume. We can associate time series with plotting values against time. Time will always be on the horizontal line as time is independent of any other variable."
   ]
  },
  {
   "cell_type": "markdown",
   "metadata": {},
   "source": [
    "## Some common examples : \n",
    "\n",
    "1. Forecasting sales volume : Every business and financial company does this. Time series analysis will be perfect for doing forecasting of sales data.\n",
    "\n",
    "2. Enhancing User Experience :  Based on the data, one is most likely to get clusters representing different groups. A detailed analysis can then be performed on various data points present in those clusters. "
   ]
  },
  {
   "cell_type": "code",
   "execution_count": null,
   "metadata": {},
   "outputs": [],
   "source": []
  }
 ],
 "metadata": {
  "kernelspec": {
   "display_name": "Python 3",
   "language": "python",
   "name": "python3"
  },
  "language_info": {
   "codemirror_mode": {
    "name": "ipython",
    "version": 3
   },
   "file_extension": ".py",
   "mimetype": "text/x-python",
   "name": "python",
   "nbconvert_exporter": "python",
   "pygments_lexer": "ipython3",
   "version": "3.7.4"
  }
 },
 "nbformat": 4,
 "nbformat_minor": 2
}
