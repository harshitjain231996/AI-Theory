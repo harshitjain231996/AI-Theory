{
 "cells": [
  {
   "cell_type": "markdown",
   "metadata": {},
   "source": [
    "# Benefit of Each Data Science Discipline\n",
    "\n",
    "**Data** - Information stored in a digital format, which can then be used as a base for performing analysis and decision making. Data is classified into 2 types namely -> traditional data and big data. Dealing with data is the first step in solving business problems or researching. It is important to know what we are looking at.\n",
    "\n",
    "Traditional Data - The data which is in the form of tables containing numeric or text values, data which is structured and stored in databases. \n",
    "\n",
    "Big Data - Term reserved for extremely large data. It is not just humongous in terms of volumes, it can be present in various formats. Big data can be structured, semi-structured or unstructured.\n",
    "\n",
    "The main V's of Big Data:\n",
    "\n",
    "a. Volume - Needs a huge amount of memory space typically distributed between many computers. It's size is measured in terabytes or even exabytes.\n",
    "\n",
    "b. Variety - Not just numbers and text. Big Data also deals with images, audio-files, mobile data and others.\n",
    "\n",
    "c. Velocity - Main goal is to extract patterns from it as quickly as possible. The progress that has been done in this area is amazing. Outputs from huge data sets can be retrieved in real time. They can be extracted so quickly that results can be computed immediately after the source data has been obtained.\n",
    "\n",
    "d. Vision\n",
    "\n",
    "e. Value\n",
    "\n",
    "f. Visualization\n",
    "\n",
    "g. Variability"
   ]
  },
  {
   "cell_type": "markdown",
   "metadata": {},
   "source": [
    "Data Science is broad subject. It is an interdisciplinary field that combines statistical, mathematical, programming, problem-solving and data management tools. Data Science is commonly segmented into 3 categories:\n",
    "\n",
    "1. **Business Intelligence** - Used when we want to analyze the past data that has been acquired. BI includes technology driven tools involved in the process of analyzing, understanding and reporting available past data. This will give us dashboards and reports which in turn will help in making informed, strategic and tactical business decisions. It is worth the time since this will help to extract insights and ideas that will help the business grow and give an edge against all the competitors. BI is about understanding how past performance in order to understand and improve future performance. \n",
    "\n",
    "Once the BI dashboards and reports have been created and presented, it's time to apply one of the two data science techniques which are namely - Traditional methods or machine learning, to develop an idea of what is going to happen in the future. \n",
    "\n",
    "2. **Traditional Data Science Methods** - Traditional methods are a set of methods that are derived mainly from statistics and are adapted for business. They are perfect for forecasting future performances with great accuracy. Example - (Regression, Cluster and factor) analysis.\n",
    "\n",
    "\n",
    "3. **Machine Learning** - In contrast to traditional methods, the responsibility is left for the machine. Through mathematics, a significant amount of computing power and applying AI, the machine is given the ability to predict outcomes from data without being explicitly programmed to. ML is all about creating algorithms that let machine receive data, perform calculations and apply statistical analysis in order to make predicitons with unprecedented accuracy. \n",
    "\n",
    "![i](https://i.imgur.com/yYUI0uL.jpg)"
   ]
  },
  {
   "cell_type": "markdown",
   "metadata": {},
   "source": [
    "Data driven decisions require well organized and relevant raw data stored in a digital format. Data which can be processed and transformed into meaningful and useful information. This is essential for companies when planning and decision making. Data is the foundation. It is the material on which one bases analysis. Without data, a decision maker wouldn't be able to test their decisions and ensure they have taken the right course of action.\n",
    "\n",
    "The job of BI Analyst to study the numbers and explain where and why some things went well and other's not so well. By having the business context in mind, the business intelligence analyst will present the data in the form of reports and dashboards. Once the patterns have been interpreted using past data, we can forecast potential future outcomes.\n",
    "\n",
    "The goal of traditional methods in machine learning are essentially the same and techniques can overlap, there is a difference between the two. Traditional methods relate to traditional data. They were designed prior to the existence of big data where the technology simply was not as advanced as it is now. They involve applying statistical approaches to create predictive models. Traditional methods are better suited for traditional data while machine learning will have better results when it comes to tackling big data."
   ]
  }
 ],
 "metadata": {
  "kernelspec": {
   "display_name": "Python 3",
   "language": "python",
   "name": "python3"
  },
  "language_info": {
   "codemirror_mode": {
    "name": "ipython",
    "version": 3
   },
   "file_extension": ".py",
   "mimetype": "text/x-python",
   "name": "python",
   "nbconvert_exporter": "python",
   "pygments_lexer": "ipython3",
   "version": "3.7.4"
  }
 },
 "nbformat": 4,
 "nbformat_minor": 2
}
