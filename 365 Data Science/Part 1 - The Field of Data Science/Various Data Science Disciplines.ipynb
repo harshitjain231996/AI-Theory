{
 "cells": [
  {
   "cell_type": "markdown",
   "metadata": {},
   "source": [
    "**Analysis** : It is performed on things which have already happened in the past to explain how and why something happened.\n",
    "\n",
    "**Analytics** : Generally refers to the future. Instead of explaining past events, it explores the potential future events. Analytics is essentially the application of logical and computational reasoning to the component parts obtained in an analysis. In doing this, one is looking for patterns in exploring what one can do with them in the future.\n",
    "\n",
    "Analytics is divided into two areas:\n",
    "\n",
    "1. **Qualitative Analytics** - It's about using our intuition and experience in conjunction with analysis to plan next move.\n",
    "\n",
    "\n",
    "2. **Quantitative Analytics** - It's about applying formulas and algorithms to numbers one has gathered from the analysis.\n",
    "\n",
    "Example of Qualitative Analytics - An owner of an online clothing store is ahead of the competition and has a great understanding of the needs and wants of the customers. A detailed analysis has also been performed by the owner from articles about which fashion trends are followed. This can be used to decide which styles of clothing to sell. \n",
    "\n",
    "Example of Quantitative Analytics - Following the example above, the owner might not know when to introduce the new collection. In that case relying on past sales data and user experience data, the owner can predict which will be the best month to do so. "
   ]
  },
  {
   "cell_type": "markdown",
   "metadata": {},
   "source": [
    "Some business activities are data driven whereas others are experience or subjective driven. Business case studies examine events that have already happened.\n",
    "\n",
    "Business case studies are real world experiences of how business people and companies succeed or fail. One does not need a data set to learn from business cases. Same can be said about qualitative analysis. \n",
    "\n",
    "Data Science is a discipline reliant on data availability, while business analytics does not completely rely on data. Data science incorporates part of data analytics mostly the part that uses complex mathematical, statistical and programming tools. Data Science will not overlap with data analytics completely, but it will reach a point beyond the area of business analytics.\n",
    "\n",
    "Oil and Gas industry, Optimization of drilling operations belong to both data analytics and data science but does not fall into business analytics.\n",
    "\n",
    "Data science can be used to improve the accuracy of predictions based on data extracted from various activities typical for drilling efficiency and it isn't business analytics.\n",
    "\n",
    "Digital Signal Processing is one example which only involves data analytics and not data science or business analytics. Digital signal is an example of numeric data. Data analytics can be applied to digital signal in order to produce a higher quality signal.\n"
   ]
  },
  {
   "cell_type": "markdown",
   "metadata": {},
   "source": [
    "**Business Intelligence** : The process of analyzing and reporting historical business data. After dashboards and reports have been prepared, they can be used to make informed, strategic and tactical business decisions by end users such as the managers. BI aims to explain past events using business data. BI is the preliminary step of predicitive analytics. \n",
    "\n",
    "First, we must analyze past data and extract useful insights. Then one will create appropriate models that will predict the future of business accurately. Preliminary data report is the first step of any data analysis. BI is all about reporting and creating dashboards. "
   ]
  },
  {
   "cell_type": "markdown",
   "metadata": {},
   "source": [
    "**Machine Learning** : The ability of machines to predict outcomes without being explicitly programmed to do so is ML. ML is about creating and implementing algorithms that let machines receive data and use this data to :\n",
    "\n",
    "a. Make predictions\n",
    "\n",
    "b. Analyze patterns\n",
    "\n",
    "c. Give recommendations on their own.\n",
    "\n",
    "Machine learning cannot be implemented without data."
   ]
  },
  {
   "cell_type": "markdown",
   "metadata": {},
   "source": [
    "**Artificial Intelligence** : It is about simulating human knowledge and decision making with computers. We have been only able to reach AI through machine learning\n",
    "\n",
    "Accurate real-time dashboards open space for machine learning applications. Machine learning softwares can pull data from third party companies such as Fb or spotify to detect new patterns from their data and thus suggest real time recommendations and insights to managers and other decision makers. This is a good way to improve the performance of business.\n",
    "\n",
    "Client retention and acquisition are two typical business activities where Machine learning is involved. ML helps develop models that predict what a client's next purchase would be.\n",
    "\n",
    "ML can also be used for detecting fraud. We can feed ML algorithm past/prior fradulent activity data. It will find patterns which the human brain is incapable of seeing. Having such a model that can detect such transactions or operations in real time has helped the financial system prevent huge amount of fraudlent activities.\n",
    "\n",
    "An example which involves only AI and not ML is Symbolic Reasoning. It is based on the high level readable representations of problems in logic. However, today ML is the only form of general AI that is being applied. Symbolic AI is rarely encountered let alone practiced.\n",
    "\n",
    "![i](https://i.imgur.com/Xbdzmgt.jpg)\n",
    "\n",
    "![i](https://i.imgur.com/A2DJuSo.jpg)"
   ]
  },
  {
   "cell_type": "markdown",
   "metadata": {},
   "source": []
  }
 ],
 "metadata": {
  "kernelspec": {
   "display_name": "Python 3",
   "language": "python",
   "name": "python3"
  },
  "language_info": {
   "codemirror_mode": {
    "name": "ipython",
    "version": 3
   },
   "file_extension": ".py",
   "mimetype": "text/x-python",
   "name": "python",
   "nbconvert_exporter": "python",
   "pygments_lexer": "ipython3",
   "version": "3.7.4"
  }
 },
 "nbformat": 4,
 "nbformat_minor": 2
}
