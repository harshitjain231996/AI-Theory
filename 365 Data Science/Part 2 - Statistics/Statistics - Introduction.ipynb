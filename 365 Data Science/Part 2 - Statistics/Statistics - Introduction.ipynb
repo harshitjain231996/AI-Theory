{
 "cells": [
  {
   "cell_type": "markdown",
   "metadata": {},
   "source": [
    "First step of every statistical analysis we perform is to determine whether the data we are dealing with is a population or a sample. \n",
    "\n",
    "A population is the collection of all items of interest to our study and is usually denoted with an uppercase N. The numbers we have obtained when using a population are called parameters.\n",
    "\n",
    "A sample is a subset of a population and is denoted with a lowercase n. The numbers we have obtained when working with sample are called statistics. \n",
    "\n",
    "Populations are hard to define and hard to observe in real life. A sample however is much easier to gather. It is less time consuming and less costly. Time and resources are the main reasons we prefer drawing samples compared to analyzing an entire population. Statistical tests are designed to work with incomplete data. We will almost be working with sample data and making data driven decisions and inferences based on it. Since statistical tests are usually based on sample data, samples are key to accurate statistical insights. They have 2 defining characteristics - Randomness and Representativeness. A sample must be both random as well as representative for an insight to be precise.\n",
    "\n",
    "A random sample is collected when each member of the sample is chosen from the population strictly by chance whereas a representative sample is a subset of the population that accurately reflects the members of the entire population. \n",
    "\n",
    "Example - When we go to a university canteen to meet the students present there, we realize that people were not chosen by chance since they were a group of students who were there for having food. Most members did not even get the chance to be chosen as they were not in the canteen. Thus we conclude that the sample was not random. It was not representative as well since the number of students in the canteen represented only a group of students but definitely not all the students in the university. To be exact, it only represented the students who had lunch at the university canteen. Had the survey been about job prospects of students who eat lunch in the university canteen we would have done well.\n",
    "\n",
    "In order to draw a sample which is both random as well as representative, we can get access to a student database and contact individuals in a random manner. However, these kind of surveys require assistance from the university."
   ]
  }
 ],
 "metadata": {
  "kernelspec": {
   "display_name": "Python 3",
   "language": "python",
   "name": "python3"
  },
  "language_info": {
   "codemirror_mode": {
    "name": "ipython",
    "version": 3
   },
   "file_extension": ".py",
   "mimetype": "text/x-python",
   "name": "python",
   "nbconvert_exporter": "python",
   "pygments_lexer": "ipython3",
   "version": "3.7.4"
  }
 },
 "nbformat": 4,
 "nbformat_minor": 2
}
