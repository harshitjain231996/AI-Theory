{
 "cells": [
  {
   "cell_type": "markdown",
   "metadata": {},
   "source": [
    "Recurrent Neural Networks are specifically designed to work with sequence data. Examples of sequence data:\n",
    "\n",
    "1. Time Series Data\n",
    "2. Sentences\n",
    "3. Audio\n",
    "4. Car Trajectories\n",
    "5. Music\n",
    "\n",
    "We can imagine a sequence as a vector of information where the index location basically points out its points in time and the actual values are the training values. \n",
    "\n",
    "A normal neuron just takes in some input and it can be multiple inputs so it can aggregate them. Once it aggregates those inputs, it passes it through some sort of activation function. From that we have an output. A recurrent neuron works differently.\n",
    "\n",
    "![neuron](https://i.imgur.com/E1AJPeP.jpg)\n",
    "\n",
    "A recurrent neuron will send the output back to itself. So the output goes back into the input of the same neuron. We can unroll this throughout time. The neuron is actually receiving inputs from a previous timestamp as well as inputs from the current timestamp. Cells that are a function of inputs from a previous time steps are known as memory cells. \n",
    "\n",
    "RNN's are also flexible in their inputs and outputs, for both sequences and single vector values. Instead of doing it with just a single neuron, we can do the same with a layer of neurons. \n",
    "\n",
    "![3 layered neurons](https://i.imgur.com/IRcueOF.jpg)\n",
    "\n",
    "If we want an entire layer of recurrent neurons then it would look like what is shown above. We have input of X and then it goes through those recurrent neurons. Then we see the output at y and then we take the output and then just pass it back to all the neurons in that layer. \n",
    "\n",
    "We can then repeat what we did for the single neuron and unroll this entire layer throughout time so that we get an input and pass the output along with the input and output at time t = t+1. Since the output of these recurrent neural networks at a time step t is technically a function of all the inputs from previous time steps, we could begin to think that it some form of memory since we are technically passing in historical information into that layer of recurrent neurons. Part of this neural network that preserves some sort of state across these time steps is called a ***memory cell***.\n",
    "\n",
    "![unrolling with layers](https://i.imgur.com/viSBhth.jpg)\n",
    "\n",
    "### Sequence to Sequence:\n",
    "\n",
    "![SequencetoSequence](https://i.imgur.com/QmjeT1R.jpg)\n",
    "\n",
    "We can perform sequence input to a sequence output. Example - Passing in a set of time series information such as a year\n",
    "s worth of daily sales data and then wanting back a sequence of the same sales data shifted over a certain time period into the future.\n",
    "\n",
    "### Sequence to Vector:\n",
    "\n",
    "![sequencetovector](https://i.imgur.com/kKwMcZC.jpg)\n",
    "\n",
    "Passing in a sequence input and requesting back a vector output. Example - Sentiment Scores. We can feed in a sequence of words maybe a paragraph of a movie review and request back a vector indicating whether it was a positive sentiment such as they really liked the movie or they disliked the movie and both of them are generally indicated by 1 and 0 respectively.\n",
    "\n",
    "### Vector to Sequence:\n",
    "\n",
    "![Vectortosequence](https://i.imgur.com/NxaTGT8.jpg)\n",
    "\n",
    "Example - Providing a single seed word and then getting out an entire sequences of high probability sequence phrases that would actually come out. We could have a word like hello and then a sequence which says how are you."
   ]
  },
  {
   "cell_type": "code",
   "execution_count": null,
   "metadata": {},
   "outputs": [],
   "source": [
    " "
   ]
  }
 ],
 "metadata": {
  "kernelspec": {
   "display_name": "Python 3",
   "language": "python",
   "name": "python3"
  },
  "language_info": {
   "codemirror_mode": {
    "name": "ipython",
    "version": 3
   },
   "file_extension": ".py",
   "mimetype": "text/x-python",
   "name": "python",
   "nbconvert_exporter": "python",
   "pygments_lexer": "ipython3",
   "version": "3.7.4"
  }
 },
 "nbformat": 4,
 "nbformat_minor": 2
}
