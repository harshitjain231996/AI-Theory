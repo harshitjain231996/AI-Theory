{
 "cells": [
  {
   "cell_type": "markdown",
   "metadata": {},
   "source": [
    "# Perceptron\n",
    "\n",
    "The artificial neuron attempts to mimic the biological neuron and it also has inputs and outputs. Inputs will be values of features. The inputs will be multiplied by some sort of weights. Typically weights start off as random. Inputs are then multiplied by weights. Then we take these results that we obtained and pass it to an activation function. The final result will depend on the activation function. The model which has only one neuron as output is called perceptron.\n",
    "\n",
    "Here is how a perceptron may look like:\n",
    "\n",
    "![perceptron](https://i.imgur.com/Lku3Po3.jpg)\n",
    "\n",
    "Note that the above is just an example and an actual perceptron may vary and can have more than the inputs shown above in the image. However, it is important to note that a perceptron will only have one output irrespective of the number of inputs and the type of activation function being used.\n",
    "\n",
    "Mathematical Representation of Perceptron:\n",
    "\n",
    "![Perceptron Mathematically](https://i.imgur.com/DiekXa2.jpg)\n",
    "\n",
    "Here w is the weight of the individual node and x represents the node. b represents bias."
   ]
  },
  {
   "cell_type": "markdown",
   "metadata": {},
   "source": [
    "# Multiple Perceptron Network\n",
    "\n",
    "Hidden Layer - Always lie between the input layer and output layer. For example in the image shown below, there are 2 hidden layers. If a network has 3 or more hidden layers, then it is considered as a deep network.\n",
    "\n",
    "Input Layers - Real values from the data.\n",
    "\n",
    "Output layer - Gives the final estimate of the output.\n",
    "\n",
    "![multiple perceptron network](https://i.imgur.com/0wyV19l.jpg)\n",
    "\n",
    "## Range of sigmoid function: [0,1]\n",
    "\n",
    "![sigmoid](https://i.imgur.com/4s8Lvoy.jpg)\n",
    "\n",
    "## Range of Hyperbolic tangent function : [-1,1]\n",
    "\n",
    "![hyperbolic](https://i.imgur.com/W6qNwSw.jpg)\n",
    "\n",
    "## Relu: \n",
    "\n",
    "Will choose the value as the maximum between 0 and z. If the value of z is negative, then by default, it will become zero according to the function.\n",
    "\n",
    "Relu tends to have the best performance in many situations.\n",
    "\n",
    "![Relu](https://i.imgur.com/twaKeFB.jpg)"
   ]
  },
  {
   "cell_type": "code",
   "execution_count": null,
   "metadata": {},
   "outputs": [],
   "source": []
  }
 ],
 "metadata": {
  "kernelspec": {
   "display_name": "Python 3",
   "language": "python",
   "name": "python3"
  },
  "language_info": {
   "codemirror_mode": {
    "name": "ipython",
    "version": 3
   },
   "file_extension": ".py",
   "mimetype": "text/x-python",
   "name": "python",
   "nbconvert_exporter": "python",
   "pygments_lexer": "ipython3",
   "version": "3.7.4"
  }
 },
 "nbformat": 4,
 "nbformat_minor": 2
}
