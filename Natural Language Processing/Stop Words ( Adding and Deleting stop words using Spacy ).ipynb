{
 "cells": [
  {
   "cell_type": "markdown",
   "metadata": {},
   "source": [
    "# Stop Words\n",
    "\n",
    "Certain words in the english language appear so frequently that they do not require tagging as thoroughly as nouns, verbs and modifiers. They are called stop words and they can be filtered from the text to be processed. They do not give any additional information and sometimes they can actually hurt NLP."
   ]
  },
  {
   "cell_type": "code",
   "execution_count": 1,
   "metadata": {},
   "outputs": [],
   "source": [
    "import spacy\n",
    "nlp = spacy.load('en_core_web_sm')"
   ]
  },
  {
   "cell_type": "code",
   "execution_count": 3,
   "metadata": {},
   "outputs": [
    {
     "name": "stdout",
     "output_type": "stream",
     "text": [
      "{'hundred', 'along', 'when', 'and', 'such', 'could', 'otherwise', 'him', 'via', 'serious', 'or', 'due', 'less', 'whose', 'yourselves', 'ca', 'must', 'they', 'nevertheless', 'together', 'their', 'so', 'each', 'what', 'four', 'others', 'therefore', 'noone', 'than', 'between', 'move', 'almost', 'top', 'during', 'ours', 'she', 'without', 'which', 'two', 'sometimes', 'keep', 'those', 'just', 'had', 'across', \"'ve\", 'former', 'five', 'may', 'everywhere', 'six', 'towards', 'he', 'nowhere', 'down', 'onto', 'please', 'on', 'three', '’d', 'another', '’s', 'from', 'some', 'never', 'wherever', 'often', 'yourself', 'make', 'whereas', 'being', 'have', 'n‘t', 'much', 'made', '‘ve', 'since', 'alone', 'mine', 'who', 'to', 'yet', 'her', 'cannot', 'not', 'why', 'has', 'becomes', 'here', '‘ll', 'as', 'whether', 'somehow', 'either', 'twenty', 'these', 'done', 'your', 'formerly', 'all', 'own', 'whereafter', 'call', 'various', 'become', 'one', 'other', 'neither', 'around', 'eleven', 'herself', 'more', 'side', 'none', 'is', 'every', 'there', 'therein', 'becoming', 'perhaps', 'few', 'seem', '’m', 'everything', 'but', 'does', 'whither', 'it', 'toward', 'whole', 'we', 'against', 'last', 'mostly', 'however', 'should', 'further', 'was', 'many', 'once', 'anyway', 'hence', 'thru', 'amount', \"'m\", '’re', 'whereupon', 'give', 'forty', 'himself', 'hereafter', 'always', 'nor', 'among', 'anyhow', 'them', 'whenever', 'yours', 'whereby', 'even', 'empty', 'everyone', '‘re', 'do', 'anyone', 'rather', \"'s\", 'sixty', 'using', 'already', 'after', 'latterly', \"n't\", 'anything', 'for', 'ever', 'namely', 'moreover', '‘m', 'bottom', 'about', 'below', 'amongst', 'if', 'through', 'anywhere', 'whatever', 'back', 'part', 'though', 'very', 'fifty', 'then', 'beforehand', 'afterwards', 'same', 'before', 'say', 'used', 'itself', 'behind', 'that', 'regarding', 'seems', 'by', 'up', 'take', '‘s', 'a', 'also', 'besides', 'eight', 'because', 'am', 'only', 'show', 'third', 'go', 'unless', 'myself', 'any', 'the', 'will', \"'ll\", 'seeming', 'name', 'fifteen', 'someone', 'elsewhere', 'hers', 'above', 'latter', 'themselves', 'whom', 'n’t', 'an', 're', 'next', 'did', 'still', 'somewhere', 'first', 'herein', 'several', 'beyond', 'well', 'nothing', 'be', 'been', 'per', 'really', 'twelve', 'might', 'no', 'out', 'throughout', 'me', \"'d\", 'beside', 'whoever', 'this', 'thus', 'hereupon', 'can', 'enough', 'see', 'front', 'how', 'meanwhile', 'us', 'else', 'into', 'were', 'its', 'put', 'too', 'quite', 'although', 'ourselves', 'upon', 'until', 'our', 'get', 'ten', '’ve', 'my', 'thence', 'where', 'over', 'with', '’ll', 'now', 'thereupon', 'except', 'off', 'nine', 'you', 'again', 'became', 'of', 'hereby', 'doing', 'while', 'within', 'least', 'i', 'his', 'sometime', 'seemed', 'nobody', 'are', \"'re\", 'in', 'most', 'thereby', 'whence', 'at', '‘d', 'indeed', 'full', 'thereafter', 'under', 'wherein', 'both', 'something', 'would'}\n"
     ]
    }
   ],
   "source": [
    "print(nlp.Defaults.stop_words) #Stop words built into spacy"
   ]
  },
  {
   "cell_type": "code",
   "execution_count": 4,
   "metadata": {},
   "outputs": [
    {
     "data": {
      "text/plain": [
       "326"
      ]
     },
     "execution_count": 4,
     "metadata": {},
     "output_type": "execute_result"
    }
   ],
   "source": [
    "len(nlp.Defaults.stop_words)"
   ]
  },
  {
   "cell_type": "code",
   "execution_count": 5,
   "metadata": {},
   "outputs": [
    {
     "data": {
      "text/plain": [
       "True"
      ]
     },
     "execution_count": 5,
     "metadata": {},
     "output_type": "execute_result"
    }
   ],
   "source": [
    "nlp.vocab['is'].is_stop"
   ]
  },
  {
   "cell_type": "code",
   "execution_count": 6,
   "metadata": {},
   "outputs": [
    {
     "data": {
      "text/plain": [
       "False"
      ]
     },
     "execution_count": 6,
     "metadata": {},
     "output_type": "execute_result"
    }
   ],
   "source": [
    "nlp.vocab['mystery'].is_stop"
   ]
  },
  {
   "cell_type": "markdown",
   "metadata": {},
   "source": [
    "### Inserting a stop word in the list of stop words"
   ]
  },
  {
   "cell_type": "code",
   "execution_count": 7,
   "metadata": {},
   "outputs": [],
   "source": [
    "nlp.Defaults.stop_words.add('btw')"
   ]
  },
  {
   "cell_type": "code",
   "execution_count": 8,
   "metadata": {},
   "outputs": [
    {
     "data": {
      "text/plain": [
       "True"
      ]
     },
     "execution_count": 8,
     "metadata": {},
     "output_type": "execute_result"
    }
   ],
   "source": [
    "nlp.vocab['btw'].is_stop"
   ]
  },
  {
   "cell_type": "code",
   "execution_count": 9,
   "metadata": {},
   "outputs": [
    {
     "data": {
      "text/plain": [
       "327"
      ]
     },
     "execution_count": 9,
     "metadata": {},
     "output_type": "execute_result"
    }
   ],
   "source": [
    "len(nlp.Defaults.stop_words)"
   ]
  },
  {
   "cell_type": "code",
   "execution_count": 10,
   "metadata": {},
   "outputs": [
    {
     "name": "stdout",
     "output_type": "stream",
     "text": [
      "{'hundred', 'along', 'when', 'and', 'such', 'could', 'otherwise', 'him', 'via', 'serious', 'or', 'due', 'less', 'whose', 'yourselves', 'ca', 'must', 'they', 'nevertheless', 'together', 'their', 'so', 'each', 'what', 'four', 'others', 'therefore', 'noone', 'than', 'between', 'move', 'almost', 'top', 'during', 'ours', 'she', 'without', 'which', 'two', 'sometimes', 'keep', 'those', 'just', 'had', 'across', \"'ve\", 'former', 'five', 'may', 'everywhere', 'six', 'towards', 'he', 'nowhere', 'down', 'onto', 'please', 'on', 'three', '’d', 'another', '’s', 'from', 'some', 'never', 'wherever', 'often', 'yourself', 'make', 'whereas', 'being', 'have', 'n‘t', 'much', 'made', '‘ve', 'since', 'alone', 'mine', 'who', 'to', 'yet', 'her', 'cannot', 'not', 'why', 'has', 'becomes', 'btw', 'here', '‘ll', 'as', 'whether', 'somehow', 'either', 'twenty', 'these', 'done', 'your', 'formerly', 'all', 'own', 'whereafter', 'call', 'various', 'become', 'one', 'other', 'neither', 'around', 'eleven', 'herself', 'more', 'side', 'none', 'is', 'every', 'there', 'therein', 'becoming', 'perhaps', 'few', 'seem', '’m', 'everything', 'but', 'does', 'whither', 'it', 'toward', 'whole', 'we', 'against', 'last', 'mostly', 'however', 'should', 'further', 'was', 'many', 'once', 'anyway', 'hence', 'thru', 'amount', \"'m\", '’re', 'whereupon', 'give', 'forty', 'himself', 'hereafter', 'always', 'nor', 'among', 'anyhow', 'them', 'whenever', 'yours', 'whereby', 'even', 'empty', 'everyone', '‘re', 'do', 'anyone', 'rather', \"'s\", 'sixty', 'using', 'already', 'after', 'latterly', \"n't\", 'anything', 'for', 'ever', 'namely', 'moreover', '‘m', 'bottom', 'about', 'below', 'amongst', 'if', 'through', 'anywhere', 'whatever', 'back', 'part', 'though', 'very', 'fifty', 'then', 'beforehand', 'afterwards', 'same', 'before', 'say', 'used', 'itself', 'behind', 'that', 'regarding', 'seems', 'by', 'up', 'take', '‘s', 'a', 'also', 'besides', 'eight', 'because', 'am', 'only', 'show', 'third', 'go', 'unless', 'myself', 'any', 'the', 'will', \"'ll\", 'seeming', 'name', 'fifteen', 'someone', 'elsewhere', 'hers', 'above', 'latter', 'themselves', 'whom', 'n’t', 'an', 're', 'next', 'did', 'still', 'somewhere', 'first', 'herein', 'several', 'beyond', 'well', 'nothing', 'be', 'been', 'per', 'really', 'twelve', 'might', 'no', 'out', 'throughout', 'me', \"'d\", 'beside', 'whoever', 'this', 'thus', 'hereupon', 'can', 'enough', 'see', 'front', 'how', 'meanwhile', 'us', 'else', 'into', 'were', 'its', 'put', 'too', 'quite', 'although', 'ourselves', 'upon', 'until', 'our', 'get', 'ten', '’ve', 'my', 'thence', 'where', 'over', 'with', '’ll', 'now', 'thereupon', 'except', 'off', 'nine', 'you', 'again', 'became', 'of', 'hereby', 'doing', 'while', 'within', 'least', 'i', 'his', 'sometime', 'seemed', 'nobody', 'are', \"'re\", 'in', 'most', 'thereby', 'whence', 'at', '‘d', 'indeed', 'full', 'thereafter', 'under', 'wherein', 'both', 'something', 'would'}\n"
     ]
    }
   ],
   "source": [
    "print(nlp.Defaults.stop_words)"
   ]
  },
  {
   "cell_type": "markdown",
   "metadata": {},
   "source": [
    "### Removing a Stop Word from the list of stop words"
   ]
  },
  {
   "cell_type": "code",
   "execution_count": 11,
   "metadata": {},
   "outputs": [],
   "source": [
    "nlp.Defaults.stop_words.remove('except')"
   ]
  },
  {
   "cell_type": "code",
   "execution_count": 12,
   "metadata": {},
   "outputs": [
    {
     "data": {
      "text/plain": [
       "False"
      ]
     },
     "execution_count": 12,
     "metadata": {},
     "output_type": "execute_result"
    }
   ],
   "source": [
    "nlp.vocab['except'].is_stop "
   ]
  },
  {
   "cell_type": "code",
   "execution_count": null,
   "metadata": {},
   "outputs": [],
   "source": []
  }
 ],
 "metadata": {
  "kernelspec": {
   "display_name": "Python 3",
   "language": "python",
   "name": "python3"
  },
  "language_info": {
   "codemirror_mode": {
    "name": "ipython",
    "version": 3
   },
   "file_extension": ".py",
   "mimetype": "text/x-python",
   "name": "python",
   "nbconvert_exporter": "python",
   "pygments_lexer": "ipython3",
   "version": "3.7.4"
  }
 },
 "nbformat": 4,
 "nbformat_minor": 2
}
