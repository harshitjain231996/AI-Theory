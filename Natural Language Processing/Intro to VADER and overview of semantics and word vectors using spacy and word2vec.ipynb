{
 "cells": [
  {
   "cell_type": "markdown",
   "metadata": {},
   "source": [
    "***Word2vec ->*** Two-layer neural net that processes text. It's input is a text corpus and it's output is a set of vectors: Feature vector for words in that corpus. The purpose and usefulness of Word2Vec is to group the vectors of similar words together in vectorspace. It detects similarities mathematically. \n",
    "\n",
    "It creates vectors that are distributed numerical representations of word features, features such as the context of individual words. It does so without human intervention. It's just learning naturally from a large corpus text the context of different words and which words are similar to other words.\n",
    "\n",
    "Given enough data, usage and contexts, Word2vec can make highly accurate guesses about a word's meaning based on past appearances. Those guesses can then be used to establish a word's association with other words(example - A man is to boy what a woman is to girl)\n",
    "\n",
    "Word2vec trains words against other words that neighbour them in the input corpus. It does so in one of two ways, either using context to predict a target word(commonly known as continuous bag of words), or using a word to predict a target context, called skip-gram.\n",
    "\n",
    "Each word will be represented in the form of a vector. In spacy, each of the word has 300 dimensions. We use cosine similarity to measure how similar word vectors are to each other."
   ]
  },
  {
   "cell_type": "markdown",
   "metadata": {},
   "source": [
    "VADER - Valence Aware Dictionary for sEntiment Reasoning. It is a model used for text sentiment analysis that is sensitive to both polarity(positive/negative) and intensity(strength) of emotion. \n",
    "\n",
    "Primarily VADER sentiment analysis relies on a dictionary which maps lexical features to emotion intensities called sentiment scores. The sentiment score of a text is obtained by summing up the intensity of each word in the text. VADER is good at understanding capitalization and punctuation.\n",
    "\n",
    "Sentiment analysis on raw text is always challenging however due to a variety of possible factors:\n",
    "1. Positive and Negative sentiment in the same text data.\n",
    "2. Sarcasm using positive words in a negative way.\n",
    "\n",
    "Sentiment analysis from VADER is not going to be full proof."
   ]
  },
  {
   "cell_type": "code",
   "execution_count": null,
   "metadata": {},
   "outputs": [],
   "source": []
  }
 ],
 "metadata": {
  "kernelspec": {
   "display_name": "Python 3",
   "language": "python",
   "name": "python3"
  },
  "language_info": {
   "codemirror_mode": {
    "name": "ipython",
    "version": 3
   },
   "file_extension": ".py",
   "mimetype": "text/x-python",
   "name": "python",
   "nbconvert_exporter": "python",
   "pygments_lexer": "ipython3",
   "version": "3.7.4"
  }
 },
 "nbformat": 4,
 "nbformat_minor": 2
}
