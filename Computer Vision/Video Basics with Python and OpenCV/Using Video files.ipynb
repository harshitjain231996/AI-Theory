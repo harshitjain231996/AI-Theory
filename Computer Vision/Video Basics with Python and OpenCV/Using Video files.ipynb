{
 "cells": [
  {
   "cell_type": "code",
   "execution_count": 1,
   "metadata": {},
   "outputs": [],
   "source": [
    "import cv2\n",
    "import time"
   ]
  },
  {
   "cell_type": "code",
   "execution_count": 5,
   "metadata": {},
   "outputs": [],
   "source": [
    "cap = cv2.VideoCapture('sample.mp4')\n",
    "\n",
    "if cap.isOpened() == False:\n",
    "    print('Error!')\n",
    "    \n",
    "while cap.isOpened():\n",
    "    ret,frame=cap.read()\n",
    "    if ret == True:\n",
    "        time.sleep(1/20) # 20 is written since in the previous code where we recorded the video, fps was set to 20. This statement is written since the computer reads at a very high frame speed which we humans do not generally do. In order to make it compatible with which humans can also visualise and understand, it is the reason why we are dividing by fps.\n",
    "        \n",
    "        cv2.imshow('frame',frame)\n",
    "        \n",
    "        if cv2.waitKey(1) & 0xFF == ord('q'):\n",
    "            break\n",
    "        else:\n",
    "            break\n",
    "cap.release()\n",
    "cv2.destroyAllWindows()"
   ]
  },
  {
   "cell_type": "code",
   "execution_count": null,
   "metadata": {},
   "outputs": [],
   "source": []
  }
 ],
 "metadata": {
  "kernelspec": {
   "display_name": "Python 3",
   "language": "python",
   "name": "python3"
  },
  "language_info": {
   "codemirror_mode": {
    "name": "ipython",
    "version": 3
   },
   "file_extension": ".py",
   "mimetype": "text/x-python",
   "name": "python",
   "nbconvert_exporter": "python",
   "pygments_lexer": "ipython3",
   "version": "3.7.4"
  }
 },
 "nbformat": 4,
 "nbformat_minor": 2
}
