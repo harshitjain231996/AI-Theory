{
 "cells": [
  {
   "cell_type": "markdown",
   "metadata": {},
   "source": [
    "# Batch Gradient Descent without Sympy"
   ]
  },
  {
   "cell_type": "code",
   "execution_count": 13,
   "metadata": {},
   "outputs": [],
   "source": [
    "import numpy as np\n",
    "import math\n",
    "from math import *"
   ]
  },
  {
   "cell_type": "code",
   "execution_count": 14,
   "metadata": {},
   "outputs": [],
   "source": [
    "def f(x,y) :\n",
    "    r = 3**(-x**2 - y**2)\n",
    "    return 1/(r+1)"
   ]
  },
  {
   "cell_type": "code",
   "execution_count": 15,
   "metadata": {},
   "outputs": [],
   "source": [
    "def fpx(x,y):\n",
    "    r = 3**(-x**2-y**2)\n",
    "    return 2*x*log(3)*r / (r+1)**2\n",
    "def fpy(x,y):\n",
    "    r = 3**(-x**2-y**2)\n",
    "    return 2*y*log(3)*r / (r+1)**2"
   ]
  },
  {
   "cell_type": "code",
   "execution_count": 18,
   "metadata": {},
   "outputs": [
    {
     "name": "stdout",
     "output_type": "stream",
     "text": [
      "Values in gradient array [2.01013038e-11 1.11673910e-11]\n",
      "Minimum occurs at x value of :  3.458385998858304e-11\n",
      "Minimum occurs at y value of : 1.9213255549212797e-11\n",
      "The cost is : 0.5\n"
     ]
    }
   ],
   "source": [
    "multiplier = 0.1\n",
    "max_iter = 500\n",
    "values_array=params.reshape(1,2)\n",
    "params = np.array([1.8,1.0]) # initial guess\n",
    "\n",
    "for n in range(max_iter):\n",
    "    gradient_x = fpx(params[0],params[1]) # How far we are away from the minimum based on the steepness of the slope\n",
    "    gradient_y = fpy(params[0],params[1])\n",
    "    gradients = np.array([gradient_x,gradient_y])\n",
    "    params = params - multiplier * gradients # current value of parameters - learning rate * gradients array. This is the updating step\n",
    "    values_array = np.append(values_array, params.reshape(1,2),axis=0)\n",
    "    \n",
    "print('Values in gradient array',gradients)\n",
    "print('Minimum occurs at x value of : ',params[0])\n",
    "print('Minimum occurs at y value of :',params[1])\n",
    "print('The cost is :', f(params[0],params[1]))"
   ]
  },
  {
   "cell_type": "code",
   "execution_count": null,
   "metadata": {},
   "outputs": [],
   "source": []
  },
  {
   "cell_type": "code",
   "execution_count": null,
   "metadata": {},
   "outputs": [],
   "source": []
  }
 ],
 "metadata": {
  "kernelspec": {
   "display_name": "Python 3",
   "language": "python",
   "name": "python3"
  },
  "language_info": {
   "codemirror_mode": {
    "name": "ipython",
    "version": 3
   },
   "file_extension": ".py",
   "mimetype": "text/x-python",
   "name": "python",
   "nbconvert_exporter": "python",
   "pygments_lexer": "ipython3",
   "version": "3.7.4"
  }
 },
 "nbformat": 4,
 "nbformat_minor": 2
}
