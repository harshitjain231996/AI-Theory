{
 "cells": [
  {
   "cell_type": "markdown",
   "metadata": {},
   "source": [
    "Gradient tells how far a point is from the minimum. THe steeper the gradient, the further one is from the minimum. In the above case we have 2 parameters on which the cost depends x and y. So we are going to use partial derivatives in this case."
   ]
  },
  {
   "cell_type": "markdown",
   "metadata": {},
   "source": [
    "# Partial Derivatives and Symbolic Computation\n",
    "\n",
    "## $$\\frac{\\partial f}{\\partial x} = \\frac{2x\\ln(3) \\cdot 3^{-x^2 - y^2}}{(3^{-x^2 - y^2} + 1)^2}$$\n",
    "\n",
    "## $$\\frac{\\partial f}{\\partial y} = \\frac{2y\\ln(3) \\cdot 3^{-x^2 - y^2}}{(3^{-x^2 - y^2} + 1)^2}$$"
   ]
  },
  {
   "cell_type": "code",
   "execution_count": 10,
   "metadata": {},
   "outputs": [],
   "source": [
    "from sympy import symbols,diff\n",
    "a,b = symbols('x,y')\n",
    "import numpy as np\n",
    "import math\n",
    "from math import *"
   ]
  },
  {
   "cell_type": "code",
   "execution_count": 11,
   "metadata": {},
   "outputs": [],
   "source": [
    "def f(x,y) :\n",
    "    r = 3**(-x**2 - y**2)\n",
    "    return 1/(r+1)"
   ]
  },
  {
   "cell_type": "code",
   "execution_count": 12,
   "metadata": {},
   "outputs": [
    {
     "name": "stdout",
     "output_type": "stream",
     "text": [
      "Our cost function f(x,y) is :  1/(3**(-x**2 - y**2) + 1)\n",
      "Partial derivative w.r.t. x is: 2*3**(-x**2 - y**2)*x*log(3)/(3**(-x**2 - y**2) + 1)**2\n"
     ]
    }
   ],
   "source": [
    "print(\"Our cost function f(x,y) is : \",f(a,b))\n",
    "print(\"Partial derivative w.r.t. x is:\",diff(f(a,b),a))"
   ]
  },
  {
   "cell_type": "code",
   "execution_count": 13,
   "metadata": {},
   "outputs": [
    {
     "name": "stdout",
     "output_type": "stream",
     "text": [
      "The value of f(x,y) at x = 1.8 and y = 1.0 is : 0.990604794032582\n"
     ]
    }
   ],
   "source": [
    "print(\"The value of f(x,y) at x = 1.8 and y = 1.0 is :\",f(a,b).evalf(subs={a:1.8,b:1.0})) # Calculating cost at a particular point in our function. For particular x and y values we get the value of the corresponding 3rd dimensional value.\n",
    "# Python Dictionary, key:value pair"
   ]
  },
  {
   "cell_type": "code",
   "execution_count": 14,
   "metadata": {},
   "outputs": [
    {
     "name": "stdout",
     "output_type": "stream",
     "text": [
      "Value of Partial Derivative wrt x : 0.0368089716197505\n"
     ]
    }
   ],
   "source": [
    "print(\"Value of Partial Derivative wrt x :\", diff(f(a,b),a).evalf(subs={a:1.8,b:1.0}))"
   ]
  },
  {
   "cell_type": "markdown",
   "metadata": {},
   "source": [
    "# Batch Gradient Descent with SymPy"
   ]
  },
  {
   "cell_type": "code",
   "execution_count": 18,
   "metadata": {},
   "outputs": [
    {
     "name": "stdout",
     "output_type": "stream",
     "text": [
      "Values in gradient array [2.01013037525579e-11 1.11673909736433e-11]\n",
      "Minimum occurs at x value of :  3.45838599885832e-11\n",
      "Minimum occurs at y value of : 1.92132555492129e-11\n",
      "The cost is : 0.500000000000000\n"
     ]
    }
   ],
   "source": [
    "multiplier = 0.1\n",
    "max_iter = 500\n",
    "params = np.array([1.8,1.0]) # initial guess\n",
    "\n",
    "for n in range(max_iter):\n",
    "    gradient_x = diff(f(a,b),a).evalf(subs={a:params[0],b:params[1]}) # How far we are away from the minimum based on the steepness of the slope\n",
    "    gradient_y = diff(f(a,b),b).evalf(subs={a:params[0],b:params[1]})\n",
    "    gradients = np.array([gradient_x,gradient_y])\n",
    "    params = params - multiplier * gradients # current value of parameters - learning rate * gradients array. This is the updating step\n",
    "\n",
    "print('Values in gradient array',gradients)\n",
    "print('Minimum occurs at x value of : ',params[0])\n",
    "print('Minimum occurs at y value of :',params[1])\n",
    "print('The cost is :', f(params[0],params[1]))"
   ]
  },
  {
   "cell_type": "code",
   "execution_count": null,
   "metadata": {},
   "outputs": [],
   "source": [
    "# Batch Gradient Descent without Sympy"
   ]
  },
  {
   "cell_type": "code",
   "execution_count": 16,
   "metadata": {},
   "outputs": [],
   "source": [
    "def fpx(x,y):\n",
    "    r = 3**(-x**2-y**2)\n",
    "    return 2*x*log(3)*r / (r+1)**2\n",
    "def fpy(x,y):\n",
    "    r = 3**(-x**2-y**2)\n",
    "    return 2*y*log(3)*r / (r+1)**2"
   ]
  },
  {
   "cell_type": "code",
   "execution_count": 19,
   "metadata": {},
   "outputs": [
    {
     "name": "stdout",
     "output_type": "stream",
     "text": [
      "Values in gradient array [2.01013038e-11 1.11673910e-11]\n",
      "Minimum occurs at x value of :  3.458385998858304e-11\n",
      "Minimum occurs at y value of : 1.9213255549212797e-11\n",
      "The cost is : 0.5\n"
     ]
    }
   ],
   "source": [
    "multiplier = 0.1\n",
    "max_iter = 500\n",
    "params = np.array([1.8,1.0]) # initial guess\n",
    "\n",
    "for n in range(max_iter):\n",
    "    gradient_x = fpx(params[0],params[1]) # How far we are away from the minimum based on the steepness of the slope\n",
    "    gradient_y = fpy(params[0],params[1])\n",
    "    gradients = np.array([gradient_x,gradient_y])\n",
    "    params = params - multiplier * gradients # current value of parameters - learning rate * gradients array. This is the updating step\n",
    "\n",
    "print('Values in gradient array',gradients)\n",
    "print('Minimum occurs at x value of : ',params[0])\n",
    "print('Minimum occurs at y value of :',params[1])\n",
    "print('The cost is :', f(params[0],params[1]))"
   ]
  },
  {
   "cell_type": "code",
   "execution_count": 20,
   "metadata": {},
   "outputs": [],
   "source": [
    "# The issue with using sympy is that it is time consuming, so we might wanna avoid it while iterating it many times."
   ]
  },
  {
   "cell_type": "code",
   "execution_count": null,
   "metadata": {},
   "outputs": [],
   "source": []
  }
 ],
 "metadata": {
  "kernelspec": {
   "display_name": "Python 3",
   "language": "python",
   "name": "python3"
  },
  "language_info": {
   "codemirror_mode": {
    "name": "ipython",
    "version": 3
   },
   "file_extension": ".py",
   "mimetype": "text/x-python",
   "name": "python",
   "nbconvert_exporter": "python",
   "pygments_lexer": "ipython3",
   "version": "3.7.4"
  }
 },
 "nbformat": 4,
 "nbformat_minor": 2
}
